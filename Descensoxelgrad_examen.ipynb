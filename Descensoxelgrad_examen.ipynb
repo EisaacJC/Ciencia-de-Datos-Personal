{
  "nbformat": 4,
  "nbformat_minor": 0,
  "metadata": {
    "colab": {
      "name": "Descensoxelgrad",
      "provenance": [],
      "collapsed_sections": [
        "OuqV1DfmM-EY",
        "b5yAR2SBLchB",
        "Kq1VQsJGH2ha",
        "ZlW3GIzIM132",
        "5tqD_NgbLTBV",
        "6stcTupqGDbf",
        "UebTx-qSGOwh",
        "jUKT-YbdcvwU",
        "EvpIdMOXcx-J"
      ],
      "include_colab_link": true
    },
    "kernelspec": {
      "name": "python3",
      "display_name": "Python 3"
    }
  },
  "cells": [
    {
      "cell_type": "markdown",
      "metadata": {
        "id": "view-in-github",
        "colab_type": "text"
      },
      "source": [
        "<a href=\"https://colab.research.google.com/github/EisaacJC/Ciencia-de-Datos-Personal/blob/master/Descensoxelgrad_examen.ipynb\" target=\"_parent\"><img src=\"https://colab.research.google.com/assets/colab-badge.svg\" alt=\"Open In Colab\"/></a>"
      ]
    },
    {
      "cell_type": "markdown",
      "metadata": {
        "id": "OuqV1DfmM-EY",
        "colab_type": "text"
      },
      "source": [
        "# Facultad de Física UV"
      ]
    },
    {
      "cell_type": "markdown",
      "metadata": {
        "id": "yapYgxb1bqbb",
        "colab_type": "text"
      },
      "source": [
        "<img align=\"left\" style=\"padding-right:10px;\" src=\"https://www.uv.mx/ffia/files/2012/09/playerLogo2.jpg\">\n",
        "\n"
      ]
    },
    {
      "cell_type": "markdown",
      "metadata": {
        "id": "eX6xsGnA6RVv",
        "colab_type": "text"
      },
      "source": [
        "Descripción del problema matemático, consideremos una función costo, con el objetivo de encontrar los extremos de ésta función derivamos parcialmente respecto a las componentes de la función, haciendo uso de la hipótesis lineal\n",
        "\n",
        "\n",
        "<b>Función Costo</b>\n",
        "\\begin{equation}\n",
        "J(\\theta) = 1/2m \\sum_{i=1}^{m} (h(\\theta)^{(i)} - y^{(i)})^2 \n",
        "\\end{equation}\n",
        "\n",
        "<b>Derivada de la función costo con respecto de las variables $\\theta_i$ </b>\n",
        "\n",
        "\\begin{equation}\n",
        "\\frac{\\partial J(\\theta)}{\\partial \\theta_j} = 1/m\\sum_{i=1}^{m}(h(\\theta^{(i)} - y^{(i)}).X_j^{(i)}\n",
        "\\end{equation}\n",
        "\n",
        "<b>Expresión numérica para cada \"gradiente\" </b>\n",
        "\\begin{equation}\n",
        "\\theta_0: = \\theta_0 -\\alpha . (1/m .\\sum_{i=1}^{m}(h(\\theta^{(i)} - y^{(i)}).X_0^{(i)})\n",
        "\\end{equation}\n",
        "\\begin{equation}\n",
        "\\theta_1: = \\theta_1 -\\alpha . (1/m .\\sum_{i=1}^{m}(h(\\theta^{(i)} - y^{(i)}).X_1^{(i)})\n",
        "\\end{equation}\n",
        "\\begin{equation}\n",
        "\\theta_2: = \\theta_2 -\\alpha . (1/m .\\sum_{i=1}^{m}(h(\\theta^{(i)} - y^{(i)}).X_2^{(i)})\n",
        "\\end{equation}\n",
        "\n",
        "\\begin{equation}\n",
        "\\theta_j: = \\theta_j -\\alpha . (1/m .\\sum_{i=1}^{m}(h(\\theta^{(i)} - y^{(i)}).X_0^{(i)})\n",
        "\\end{equation}"
      ]
    },
    {
      "cell_type": "markdown",
      "metadata": {
        "id": "b5yAR2SBLchB",
        "colab_type": "text"
      },
      "source": [
        "# Importación de librerías y lectura de bases de datos"
      ]
    },
    {
      "cell_type": "code",
      "metadata": {
        "id": "YGCI0s1p5N7P",
        "colab_type": "code",
        "colab": {}
      },
      "source": [
        "#importando librerias\n",
        "#!pip install pandas\n",
        "#!pip install pandas.compat\n",
        "import numpy as np\n",
        "import matplotlib.pyplot as plt\n",
        "import seaborn as sns\n",
        "import pandas as pd\n",
        "#from pandas.compat import StringIO\n",
        "%matplotlib inline"
      ],
      "execution_count": 0,
      "outputs": []
    },
    {
      "cell_type": "code",
      "metadata": {
        "id": "Kco50nQj5e94",
        "colab_type": "code",
        "colab": {}
      },
      "source": [
        "#Adqusición de datos:\n",
        "#datos entrenamiento\n",
        "#dent=pd.read_csv(\"https://raw.githubusercontent.com/EisaacJC/DCI/master/datosEntrenamiento.csv?token=ACRPZCPCCRSVX2HGD4RH5RC56FTNS\",names=[\"x0\",\"x1\",\"x2\",\"x3\",\"y\"], delim_whitespace= False, header= None)\n",
        "#datos prueba\n",
        "#dprp=pd.read_csv(\"https://raw.githubusercontent.com/EisaacJC/DCI/master/datosPrueba.csv?token=ACRPZCPZQCVZLPD6IQ2VFKK56FTXQ\",names=[\"x0\",\"x1\",\"x2\",\"x3\",\"y\"], delim_whitespace= False, header= None)\n",
        "#datos validacion\n",
        "#dval=pd.read_csv(\"https://raw.githubusercontent.com/EisaacJC/DCI/master/datosPrueba.csv?token=ACRPZCMUNUK5L33AHNILABC56FUBQ\",names=[\"x0\",\"x1\",\"x2\",\"x3\",\"y\"], delim_whitespace= False, header= None)\n",
        "dent=pd.read_csv(\"https://raw.githubusercontent.com/EisaacJC/Ciencia-de-Datos-Personal/master/energydata_complete.csv\", delim_whitespace= False) #header= None)\n",
        "\n",
        "#dent=pd.read_csv(\"https://raw.githubusercontent.com/EisaacJC/Ciencia-de-Datos-Personal/master/data.csv\",names=[\"x0\",\"x1\",\"x2\"])"
      ],
      "execution_count": 0,
      "outputs": []
    },
    {
      "cell_type": "code",
      "metadata": {
        "id": "903MO88ZrH6M",
        "colab_type": "code",
        "colab": {
          "base_uri": "https://localhost:8080/",
          "height": 773
        },
        "outputId": "9fd77d27-2ec0-4b0e-b8ac-8fb7e04fae4c"
      },
      "source": [
        "dent"
      ],
      "execution_count": 3,
      "outputs": [
        {
          "output_type": "execute_result",
          "data": {
            "text/html": [
              "<div>\n",
              "<style scoped>\n",
              "    .dataframe tbody tr th:only-of-type {\n",
              "        vertical-align: middle;\n",
              "    }\n",
              "\n",
              "    .dataframe tbody tr th {\n",
              "        vertical-align: top;\n",
              "    }\n",
              "\n",
              "    .dataframe thead th {\n",
              "        text-align: right;\n",
              "    }\n",
              "</style>\n",
              "<table border=\"1\" class=\"dataframe\">\n",
              "  <thead>\n",
              "    <tr style=\"text-align: right;\">\n",
              "      <th></th>\n",
              "      <th>date</th>\n",
              "      <th>Appliances</th>\n",
              "      <th>lights</th>\n",
              "      <th>T1</th>\n",
              "      <th>RH_1</th>\n",
              "      <th>T2</th>\n",
              "      <th>RH_2</th>\n",
              "      <th>T3</th>\n",
              "      <th>RH_3</th>\n",
              "      <th>T4</th>\n",
              "      <th>RH_4</th>\n",
              "      <th>T5</th>\n",
              "      <th>RH_5</th>\n",
              "      <th>T6</th>\n",
              "      <th>RH_6</th>\n",
              "      <th>T7</th>\n",
              "      <th>RH_7</th>\n",
              "      <th>T8</th>\n",
              "      <th>RH_8</th>\n",
              "      <th>T9</th>\n",
              "      <th>RH_9</th>\n",
              "      <th>T_out</th>\n",
              "      <th>Press_mm_hg</th>\n",
              "      <th>RH_out</th>\n",
              "      <th>Windspeed</th>\n",
              "      <th>Visibility</th>\n",
              "      <th>Tdewpoint</th>\n",
              "      <th>rv1</th>\n",
              "      <th>rv2</th>\n",
              "    </tr>\n",
              "  </thead>\n",
              "  <tbody>\n",
              "    <tr>\n",
              "      <th>0</th>\n",
              "      <td>2016-01-11 17:00:00</td>\n",
              "      <td>60</td>\n",
              "      <td>30</td>\n",
              "      <td>19.890000</td>\n",
              "      <td>47.596667</td>\n",
              "      <td>19.200000</td>\n",
              "      <td>44.790000</td>\n",
              "      <td>19.790000</td>\n",
              "      <td>44.730000</td>\n",
              "      <td>19.000000</td>\n",
              "      <td>45.566667</td>\n",
              "      <td>17.166667</td>\n",
              "      <td>55.200000</td>\n",
              "      <td>7.026667</td>\n",
              "      <td>84.256667</td>\n",
              "      <td>17.200000</td>\n",
              "      <td>41.626667</td>\n",
              "      <td>18.2000</td>\n",
              "      <td>48.900000</td>\n",
              "      <td>17.033333</td>\n",
              "      <td>45.5300</td>\n",
              "      <td>6.600000</td>\n",
              "      <td>733.5</td>\n",
              "      <td>92.000000</td>\n",
              "      <td>7.000000</td>\n",
              "      <td>63.000000</td>\n",
              "      <td>5.300000</td>\n",
              "      <td>13.275433</td>\n",
              "      <td>13.275433</td>\n",
              "    </tr>\n",
              "    <tr>\n",
              "      <th>1</th>\n",
              "      <td>2016-01-11 17:10:00</td>\n",
              "      <td>60</td>\n",
              "      <td>30</td>\n",
              "      <td>19.890000</td>\n",
              "      <td>46.693333</td>\n",
              "      <td>19.200000</td>\n",
              "      <td>44.722500</td>\n",
              "      <td>19.790000</td>\n",
              "      <td>44.790000</td>\n",
              "      <td>19.000000</td>\n",
              "      <td>45.992500</td>\n",
              "      <td>17.166667</td>\n",
              "      <td>55.200000</td>\n",
              "      <td>6.833333</td>\n",
              "      <td>84.063333</td>\n",
              "      <td>17.200000</td>\n",
              "      <td>41.560000</td>\n",
              "      <td>18.2000</td>\n",
              "      <td>48.863333</td>\n",
              "      <td>17.066667</td>\n",
              "      <td>45.5600</td>\n",
              "      <td>6.483333</td>\n",
              "      <td>733.6</td>\n",
              "      <td>92.000000</td>\n",
              "      <td>6.666667</td>\n",
              "      <td>59.166667</td>\n",
              "      <td>5.200000</td>\n",
              "      <td>18.606195</td>\n",
              "      <td>18.606195</td>\n",
              "    </tr>\n",
              "    <tr>\n",
              "      <th>2</th>\n",
              "      <td>2016-01-11 17:20:00</td>\n",
              "      <td>50</td>\n",
              "      <td>30</td>\n",
              "      <td>19.890000</td>\n",
              "      <td>46.300000</td>\n",
              "      <td>19.200000</td>\n",
              "      <td>44.626667</td>\n",
              "      <td>19.790000</td>\n",
              "      <td>44.933333</td>\n",
              "      <td>18.926667</td>\n",
              "      <td>45.890000</td>\n",
              "      <td>17.166667</td>\n",
              "      <td>55.090000</td>\n",
              "      <td>6.560000</td>\n",
              "      <td>83.156667</td>\n",
              "      <td>17.200000</td>\n",
              "      <td>41.433333</td>\n",
              "      <td>18.2000</td>\n",
              "      <td>48.730000</td>\n",
              "      <td>17.000000</td>\n",
              "      <td>45.5000</td>\n",
              "      <td>6.366667</td>\n",
              "      <td>733.7</td>\n",
              "      <td>92.000000</td>\n",
              "      <td>6.333333</td>\n",
              "      <td>55.333333</td>\n",
              "      <td>5.100000</td>\n",
              "      <td>28.642668</td>\n",
              "      <td>28.642668</td>\n",
              "    </tr>\n",
              "    <tr>\n",
              "      <th>3</th>\n",
              "      <td>2016-01-11 17:30:00</td>\n",
              "      <td>50</td>\n",
              "      <td>40</td>\n",
              "      <td>19.890000</td>\n",
              "      <td>46.066667</td>\n",
              "      <td>19.200000</td>\n",
              "      <td>44.590000</td>\n",
              "      <td>19.790000</td>\n",
              "      <td>45.000000</td>\n",
              "      <td>18.890000</td>\n",
              "      <td>45.723333</td>\n",
              "      <td>17.166667</td>\n",
              "      <td>55.090000</td>\n",
              "      <td>6.433333</td>\n",
              "      <td>83.423333</td>\n",
              "      <td>17.133333</td>\n",
              "      <td>41.290000</td>\n",
              "      <td>18.1000</td>\n",
              "      <td>48.590000</td>\n",
              "      <td>17.000000</td>\n",
              "      <td>45.4000</td>\n",
              "      <td>6.250000</td>\n",
              "      <td>733.8</td>\n",
              "      <td>92.000000</td>\n",
              "      <td>6.000000</td>\n",
              "      <td>51.500000</td>\n",
              "      <td>5.000000</td>\n",
              "      <td>45.410389</td>\n",
              "      <td>45.410389</td>\n",
              "    </tr>\n",
              "    <tr>\n",
              "      <th>4</th>\n",
              "      <td>2016-01-11 17:40:00</td>\n",
              "      <td>60</td>\n",
              "      <td>40</td>\n",
              "      <td>19.890000</td>\n",
              "      <td>46.333333</td>\n",
              "      <td>19.200000</td>\n",
              "      <td>44.530000</td>\n",
              "      <td>19.790000</td>\n",
              "      <td>45.000000</td>\n",
              "      <td>18.890000</td>\n",
              "      <td>45.530000</td>\n",
              "      <td>17.200000</td>\n",
              "      <td>55.090000</td>\n",
              "      <td>6.366667</td>\n",
              "      <td>84.893333</td>\n",
              "      <td>17.200000</td>\n",
              "      <td>41.230000</td>\n",
              "      <td>18.1000</td>\n",
              "      <td>48.590000</td>\n",
              "      <td>17.000000</td>\n",
              "      <td>45.4000</td>\n",
              "      <td>6.133333</td>\n",
              "      <td>733.9</td>\n",
              "      <td>92.000000</td>\n",
              "      <td>5.666667</td>\n",
              "      <td>47.666667</td>\n",
              "      <td>4.900000</td>\n",
              "      <td>10.084097</td>\n",
              "      <td>10.084097</td>\n",
              "    </tr>\n",
              "    <tr>\n",
              "      <th>...</th>\n",
              "      <td>...</td>\n",
              "      <td>...</td>\n",
              "      <td>...</td>\n",
              "      <td>...</td>\n",
              "      <td>...</td>\n",
              "      <td>...</td>\n",
              "      <td>...</td>\n",
              "      <td>...</td>\n",
              "      <td>...</td>\n",
              "      <td>...</td>\n",
              "      <td>...</td>\n",
              "      <td>...</td>\n",
              "      <td>...</td>\n",
              "      <td>...</td>\n",
              "      <td>...</td>\n",
              "      <td>...</td>\n",
              "      <td>...</td>\n",
              "      <td>...</td>\n",
              "      <td>...</td>\n",
              "      <td>...</td>\n",
              "      <td>...</td>\n",
              "      <td>...</td>\n",
              "      <td>...</td>\n",
              "      <td>...</td>\n",
              "      <td>...</td>\n",
              "      <td>...</td>\n",
              "      <td>...</td>\n",
              "      <td>...</td>\n",
              "      <td>...</td>\n",
              "    </tr>\n",
              "    <tr>\n",
              "      <th>19730</th>\n",
              "      <td>2016-05-27 17:20:00</td>\n",
              "      <td>100</td>\n",
              "      <td>0</td>\n",
              "      <td>25.566667</td>\n",
              "      <td>46.560000</td>\n",
              "      <td>25.890000</td>\n",
              "      <td>42.025714</td>\n",
              "      <td>27.200000</td>\n",
              "      <td>41.163333</td>\n",
              "      <td>24.700000</td>\n",
              "      <td>45.590000</td>\n",
              "      <td>23.200000</td>\n",
              "      <td>52.400000</td>\n",
              "      <td>24.796667</td>\n",
              "      <td>1.000000</td>\n",
              "      <td>24.500000</td>\n",
              "      <td>44.500000</td>\n",
              "      <td>24.7000</td>\n",
              "      <td>50.074000</td>\n",
              "      <td>23.200000</td>\n",
              "      <td>46.7900</td>\n",
              "      <td>22.733333</td>\n",
              "      <td>755.2</td>\n",
              "      <td>55.666667</td>\n",
              "      <td>3.333333</td>\n",
              "      <td>23.666667</td>\n",
              "      <td>13.333333</td>\n",
              "      <td>43.096812</td>\n",
              "      <td>43.096812</td>\n",
              "    </tr>\n",
              "    <tr>\n",
              "      <th>19731</th>\n",
              "      <td>2016-05-27 17:30:00</td>\n",
              "      <td>90</td>\n",
              "      <td>0</td>\n",
              "      <td>25.500000</td>\n",
              "      <td>46.500000</td>\n",
              "      <td>25.754000</td>\n",
              "      <td>42.080000</td>\n",
              "      <td>27.133333</td>\n",
              "      <td>41.223333</td>\n",
              "      <td>24.700000</td>\n",
              "      <td>45.590000</td>\n",
              "      <td>23.230000</td>\n",
              "      <td>52.326667</td>\n",
              "      <td>24.196667</td>\n",
              "      <td>1.000000</td>\n",
              "      <td>24.557143</td>\n",
              "      <td>44.414286</td>\n",
              "      <td>24.7000</td>\n",
              "      <td>49.790000</td>\n",
              "      <td>23.200000</td>\n",
              "      <td>46.7900</td>\n",
              "      <td>22.600000</td>\n",
              "      <td>755.2</td>\n",
              "      <td>56.000000</td>\n",
              "      <td>3.500000</td>\n",
              "      <td>24.500000</td>\n",
              "      <td>13.300000</td>\n",
              "      <td>49.282940</td>\n",
              "      <td>49.282940</td>\n",
              "    </tr>\n",
              "    <tr>\n",
              "      <th>19732</th>\n",
              "      <td>2016-05-27 17:40:00</td>\n",
              "      <td>270</td>\n",
              "      <td>10</td>\n",
              "      <td>25.500000</td>\n",
              "      <td>46.596667</td>\n",
              "      <td>25.628571</td>\n",
              "      <td>42.768571</td>\n",
              "      <td>27.050000</td>\n",
              "      <td>41.690000</td>\n",
              "      <td>24.700000</td>\n",
              "      <td>45.730000</td>\n",
              "      <td>23.230000</td>\n",
              "      <td>52.266667</td>\n",
              "      <td>23.626667</td>\n",
              "      <td>1.000000</td>\n",
              "      <td>24.540000</td>\n",
              "      <td>44.400000</td>\n",
              "      <td>24.7000</td>\n",
              "      <td>49.660000</td>\n",
              "      <td>23.200000</td>\n",
              "      <td>46.7900</td>\n",
              "      <td>22.466667</td>\n",
              "      <td>755.2</td>\n",
              "      <td>56.333333</td>\n",
              "      <td>3.666667</td>\n",
              "      <td>25.333333</td>\n",
              "      <td>13.266667</td>\n",
              "      <td>29.199117</td>\n",
              "      <td>29.199117</td>\n",
              "    </tr>\n",
              "    <tr>\n",
              "      <th>19733</th>\n",
              "      <td>2016-05-27 17:50:00</td>\n",
              "      <td>420</td>\n",
              "      <td>10</td>\n",
              "      <td>25.500000</td>\n",
              "      <td>46.990000</td>\n",
              "      <td>25.414000</td>\n",
              "      <td>43.036000</td>\n",
              "      <td>26.890000</td>\n",
              "      <td>41.290000</td>\n",
              "      <td>24.700000</td>\n",
              "      <td>45.790000</td>\n",
              "      <td>23.200000</td>\n",
              "      <td>52.200000</td>\n",
              "      <td>22.433333</td>\n",
              "      <td>1.000000</td>\n",
              "      <td>24.500000</td>\n",
              "      <td>44.295714</td>\n",
              "      <td>24.6625</td>\n",
              "      <td>49.518750</td>\n",
              "      <td>23.200000</td>\n",
              "      <td>46.8175</td>\n",
              "      <td>22.333333</td>\n",
              "      <td>755.2</td>\n",
              "      <td>56.666667</td>\n",
              "      <td>3.833333</td>\n",
              "      <td>26.166667</td>\n",
              "      <td>13.233333</td>\n",
              "      <td>6.322784</td>\n",
              "      <td>6.322784</td>\n",
              "    </tr>\n",
              "    <tr>\n",
              "      <th>19734</th>\n",
              "      <td>2016-05-27 18:00:00</td>\n",
              "      <td>430</td>\n",
              "      <td>10</td>\n",
              "      <td>25.500000</td>\n",
              "      <td>46.600000</td>\n",
              "      <td>25.264286</td>\n",
              "      <td>42.971429</td>\n",
              "      <td>26.823333</td>\n",
              "      <td>41.156667</td>\n",
              "      <td>24.700000</td>\n",
              "      <td>45.963333</td>\n",
              "      <td>23.200000</td>\n",
              "      <td>52.200000</td>\n",
              "      <td>21.026667</td>\n",
              "      <td>1.000000</td>\n",
              "      <td>24.500000</td>\n",
              "      <td>44.054000</td>\n",
              "      <td>24.7360</td>\n",
              "      <td>49.736000</td>\n",
              "      <td>23.200000</td>\n",
              "      <td>46.8450</td>\n",
              "      <td>22.200000</td>\n",
              "      <td>755.2</td>\n",
              "      <td>57.000000</td>\n",
              "      <td>4.000000</td>\n",
              "      <td>27.000000</td>\n",
              "      <td>13.200000</td>\n",
              "      <td>34.118851</td>\n",
              "      <td>34.118851</td>\n",
              "    </tr>\n",
              "  </tbody>\n",
              "</table>\n",
              "<p>19735 rows × 29 columns</p>\n",
              "</div>"
            ],
            "text/plain": [
              "                      date  Appliances  lights  ...  Tdewpoint        rv1        rv2\n",
              "0      2016-01-11 17:00:00          60      30  ...   5.300000  13.275433  13.275433\n",
              "1      2016-01-11 17:10:00          60      30  ...   5.200000  18.606195  18.606195\n",
              "2      2016-01-11 17:20:00          50      30  ...   5.100000  28.642668  28.642668\n",
              "3      2016-01-11 17:30:00          50      40  ...   5.000000  45.410389  45.410389\n",
              "4      2016-01-11 17:40:00          60      40  ...   4.900000  10.084097  10.084097\n",
              "...                    ...         ...     ...  ...        ...        ...        ...\n",
              "19730  2016-05-27 17:20:00         100       0  ...  13.333333  43.096812  43.096812\n",
              "19731  2016-05-27 17:30:00          90       0  ...  13.300000  49.282940  49.282940\n",
              "19732  2016-05-27 17:40:00         270      10  ...  13.266667  29.199117  29.199117\n",
              "19733  2016-05-27 17:50:00         420      10  ...  13.233333   6.322784   6.322784\n",
              "19734  2016-05-27 18:00:00         430      10  ...  13.200000  34.118851  34.118851\n",
              "\n",
              "[19735 rows x 29 columns]"
            ]
          },
          "metadata": {
            "tags": []
          },
          "execution_count": 3
        }
      ]
    },
    {
      "cell_type": "code",
      "metadata": {
        "id": "VJh2FFibqwcM",
        "colab_type": "code",
        "colab": {}
      },
      "source": [
        " del dent[\"rv1\"]\n",
        " del dent[\"rv2\"]\n",
        " del dent[\"date\"]\n",
        " del dent[\"lights\"]"
      ],
      "execution_count": 0,
      "outputs": []
    },
    {
      "cell_type": "code",
      "metadata": {
        "id": "mn6db0UksObY",
        "colab_type": "code",
        "colab": {
          "base_uri": "https://localhost:8080/",
          "height": 259
        },
        "outputId": "579263c0-66c2-4ea4-df57-a7f35dd398b8"
      },
      "source": [
        "dent.info"
      ],
      "execution_count": 5,
      "outputs": [
        {
          "output_type": "execute_result",
          "data": {
            "text/plain": [
              "<bound method DataFrame.info of        Appliances         T1       RH_1  ...  Windspeed  Visibility  Tdewpoint\n",
              "0              60  19.890000  47.596667  ...   7.000000   63.000000   5.300000\n",
              "1              60  19.890000  46.693333  ...   6.666667   59.166667   5.200000\n",
              "2              50  19.890000  46.300000  ...   6.333333   55.333333   5.100000\n",
              "3              50  19.890000  46.066667  ...   6.000000   51.500000   5.000000\n",
              "4              60  19.890000  46.333333  ...   5.666667   47.666667   4.900000\n",
              "...           ...        ...        ...  ...        ...         ...        ...\n",
              "19730         100  25.566667  46.560000  ...   3.333333   23.666667  13.333333\n",
              "19731          90  25.500000  46.500000  ...   3.500000   24.500000  13.300000\n",
              "19732         270  25.500000  46.596667  ...   3.666667   25.333333  13.266667\n",
              "19733         420  25.500000  46.990000  ...   3.833333   26.166667  13.233333\n",
              "19734         430  25.500000  46.600000  ...   4.000000   27.000000  13.200000\n",
              "\n",
              "[19735 rows x 25 columns]>"
            ]
          },
          "metadata": {
            "tags": []
          },
          "execution_count": 5
        }
      ]
    },
    {
      "cell_type": "markdown",
      "metadata": {
        "id": "Kq1VQsJGH2ha",
        "colab_type": "text"
      },
      "source": [
        "# Visualización de la base de datos, para ver posibles correlaciones"
      ]
    },
    {
      "cell_type": "code",
      "metadata": {
        "id": "sL-Qddu9HPrk",
        "colab_type": "code",
        "colab": {}
      },
      "source": [
        "#sns.pairplot(data=dent);"
      ],
      "execution_count": 0,
      "outputs": []
    },
    {
      "cell_type": "markdown",
      "metadata": {
        "id": "ZlW3GIzIM132",
        "colab_type": "text"
      },
      "source": [
        "# Definición de funciones:\n"
      ]
    },
    {
      "cell_type": "code",
      "metadata": {
        "id": "vJiFvccTxiSs",
        "colab_type": "code",
        "colab": {}
      },
      "source": [
        "#Costo\n",
        "def calcula_costo(X,y,theta):\n",
        "    sumax = np.power(((X @ theta.T)-y),2)\n",
        "    return np.sum(sumax)/(2 * len(X))\n"
      ],
      "execution_count": 0,
      "outputs": []
    },
    {
      "cell_type": "code",
      "metadata": {
        "id": "s-e3Pcm7yqiy",
        "colab_type": "code",
        "colab": {}
      },
      "source": [
        "#Descenso\n",
        "def descenso(X,y,theta,iters,alpha):\n",
        "    costo = np.zeros(iters)\n",
        "    T=np.zeros(iters)\n",
        "    A=[T, costo]\n",
        "    for i in range(iters):\n",
        "        theta = theta - (alpha/len(X)) * np.sum(X * (X @ theta.T - y), axis=0)\n",
        "        costo[i] = calcula_costo(X, y, theta)\n",
        "        #T[i]=T[i]+1\n",
        "        #plt.scatter(i, costo[i])\n",
        "    #plt.scatter(T,calcula_costo)\n",
        "    return theta,costo\n"
      ],
      "execution_count": 0,
      "outputs": []
    },
    {
      "cell_type": "markdown",
      "metadata": {
        "id": "5tqD_NgbLTBV",
        "colab_type": "text"
      },
      "source": [
        "# Entrenamiento"
      ]
    },
    {
      "cell_type": "code",
      "metadata": {
        "id": "zs5xwpkntGhR",
        "colab_type": "code",
        "colab": {}
      },
      "source": [
        "#dent = (dent - dent.mean())/dent.std()\n",
        "#a=dent.std()\n",
        "dent.head()\n",
        "#Creando las matrices de datos\n",
        "X = dent.iloc[0:,1:25]\n",
        "ones = np.ones([X.shape[0],1])\n",
        "X = np.concatenate((ones,X),axis=1)# Concatenando las primeras cuatro columnas\n",
        "#en nuestra matriz\n",
        "y = dent.iloc[:,0:1].values #Poniendo la quinta en Y\n",
        "theta = np.zeros([1,25])#Generando el vector de thetas\n",
        "#Ajustando parámetros\n",
        "alpha = 0.0000000001\n",
        "iters = 100000"
      ],
      "execution_count": 0,
      "outputs": []
    },
    {
      "cell_type": "code",
      "metadata": {
        "id": "qawky3K0yYcJ",
        "colab_type": "code",
        "outputId": "ea9c7673-68e1-4ec8-cced-87835c9a7a63",
        "colab": {
          "base_uri": "https://localhost:8080/",
          "height": 104
        }
      },
      "source": [
        "#Ejecutando el descenso por el gradiente y la función costo\n",
        "g,costo = descenso(X,y,theta,iters,alpha)\n",
        "print(g)\n",
        "costo_final = calcula_costo(X,y,g)"
      ],
      "execution_count": 37,
      "outputs": [
        {
          "output_type": "stream",
          "text": [
            "[[0.00016349 0.00364048 0.00693202 0.00360033 0.00635201 0.00382046\n",
            "  0.00653268 0.00349836 0.00645164 0.00324471 0.00838541 0.00204329\n",
            "  0.00618182 0.00337478 0.00548945 0.00368641 0.00650805 0.00321193\n",
            "  0.00656842 0.00176507 0.12320651 0.01067248 0.00088303 0.00625543\n",
            "  0.000685  ]]\n"
          ],
          "name": "stdout"
        }
      ]
    },
    {
      "cell_type": "code",
      "metadata": {
        "id": "AyrBq203y31R",
        "colab_type": "code",
        "outputId": "111b27c1-952e-4b28-c451-2a429c7f32e3",
        "colab": {
          "base_uri": "https://localhost:8080/",
          "height": 312
        }
      },
      "source": [
        "fig, ax = plt.subplots()  \n",
        "ax.plot(np.arange(iters), costo, 'r')  \n",
        "ax.set_xlabel('Iteraciones')  \n",
        "ax.set_ylabel('Costo')  \n",
        "ax.set_title('Función Costo')  "
      ],
      "execution_count": 38,
      "outputs": [
        {
          "output_type": "execute_result",
          "data": {
            "text/plain": [
              "Text(0.5, 1.0, 'Función Costo')"
            ]
          },
          "metadata": {
            "tags": []
          },
          "execution_count": 38
        },
        {
          "output_type": "display_data",
          "data": {
            "image/png": "[encoded data removed]",
            "text/plain": [
              "<Figure size 432x288 with 1 Axes>"
            ]
          },
          "metadata": {
            "tags": []
          }
        }
      ]
    },
    {
      "cell_type": "markdown",
      "metadata": {
        "id": "4gU5YzWi_hiA",
        "colab_type": "text"
      },
      "source": [
        "# Elección \"aleatoria\" de los datos"
      ]
    },
    {
      "cell_type": "code",
      "metadata": {
        "id": "WYI53Nxp_ZyO",
        "colab_type": "code",
        "colab": {
          "base_uri": "https://localhost:8080/",
          "height": 415
        },
        "outputId": "5e3830c9-bac1-42df-b2be-97a9108d3d0a"
      },
      "source": [
        "from sklearn.model_selection import train_test_split\n",
        "data=dent\n",
        "data = (data - data.mean())/data.std()\n",
        "train, test = train_test_split(data, random_state = 0)\n",
        "#dprb.head()\n",
        "#Creando las matrices de dat0s\n",
        "Xt = train.iloc[:,1:25]\n",
        "ones = np.ones([Xt.shape[0],1])\n",
        "Xt = np.concatenate((ones,Xt),axis=1)# Concatenando las primeras cuatro columnas\n",
        "#en nuestra matriz\n",
        "yt = train.iloc[:,0:1].values #Ponienndo la quinta en Y\n",
        "theta = np.zeros([1,25])#Generando el vector de thetas\n",
        "#Ejecutando el descenso por el gradiente y la función costo\n",
        "alpha=0.001\n",
        "iters=10000\n",
        "g,costo = descenso(Xt,yt,theta,iters,alpha)\n",
        "print(g)\n",
        "costo_final = calcula_costo(Xt,yt,g)\n",
        "print(costo_final)\n",
        "fig, ax = plt.subplots()  \n",
        "ax.plot(np.arange(iters), costo, 'b')  \n",
        "ax.set_xlabel('Iteraciones')  \n",
        "ax.set_ylabel('Costo')  \n",
        "ax.set_title('Costo entrenamiento')"
      ],
      "execution_count": 53,
      "outputs": [
        {
          "output_type": "stream",
          "text": [
            "[[-0.00384713 -0.02920328  0.31341732  0.0520351  -0.10761063  0.28168137\n",
            "   0.14400556 -0.04450089  0.02681244 -0.07848576  0.0181754   0.08683773\n",
            "   0.02725566 -0.05272884 -0.12075046  0.07659089 -0.24062135 -0.16360176\n",
            "  -0.09983294 -0.03386384  0.00275548 -0.02105916  0.04715022  0.01999746\n",
            "  -0.02635387]]\n",
            "0.4248256025517623\n"
          ],
          "name": "stdout"
        },
        {
          "output_type": "execute_result",
          "data": {
            "text/plain": [
              "Text(0.5, 1.0, 'Costo entrenamiento')"
            ]
          },
          "metadata": {
            "tags": []
          },
          "execution_count": 53
        },
        {
          "output_type": "display_data",
          "data": {
            "image/png": "[encoded data removed]",
            "text/plain": [
              "<Figure size 432x288 with 1 Axes>"
            ]
          },
          "metadata": {
            "tags": []
          }
        }
      ]
    },
    {
      "cell_type": "markdown",
      "metadata": {
        "id": "fmU_FYsIGwZ0",
        "colab_type": "text"
      },
      "source": [
        "# Prueba"
      ]
    },
    {
      "cell_type": "code",
      "metadata": {
        "id": "Mff1ts4d_ISB",
        "colab_type": "code",
        "colab": {
          "base_uri": "https://localhost:8080/",
          "height": 415
        },
        "outputId": "718ea1a1-09bc-4383-8123-8e8db83d570e"
      },
      "source": [
        "Xp = test.iloc[:,1:25]\n",
        "ones = np.ones([Xp.shape[0],1])\n",
        "Xp = np.concatenate((ones,Xp),axis=1)# Concatenando las primeras cuatro columnas\n",
        "#en nuestra matriz\n",
        "yp = test.iloc[:,0:1].values #Ponienndo la quinta en Y\n",
        "theta = np.zeros([1,25])#Generando el vector de thetas\n",
        "#Ejecutando el descenso por el gradiente y la función costo\n",
        "alpha=0.001\n",
        "iters=10000\n",
        "g,costo = descenso(Xp,yp,theta,iters,alpha)\n",
        "print(g)\n",
        "costo_final = calcula_costo(Xp,yp,g)\n",
        "print(costo_final)\n",
        "fig, ax = plt.subplots()  \n",
        "ax.plot(np.arange(iters), costo, 'b')  \n",
        "ax.set_xlabel('Iteraciones')  \n",
        "ax.set_ylabel('Costo')  \n",
        "ax.set_title('Costo entrenamiento')"
      ],
      "execution_count": 54,
      "outputs": [
        {
          "output_type": "stream",
          "text": [
            "[[ 0.01112142 -0.07121432  0.32009357  0.01130052 -0.11712417  0.24918999\n",
            "   0.13555873  0.02096019  0.05070255 -0.10574538  0.02348241  0.09824815\n",
            "   0.03155246 -0.05953968 -0.15824808  0.10568165 -0.18149353 -0.1409753\n",
            "  -0.08947902 -0.03335581 -0.02026257 -0.04733918  0.05354779  0.01236718\n",
            "  -0.04755091]]\n",
            "0.4760929660926588\n"
          ],
          "name": "stdout"
        },
        {
          "output_type": "execute_result",
          "data": {
            "text/plain": [
              "Text(0.5, 1.0, 'Costo entrenamiento')"
            ]
          },
          "metadata": {
            "tags": []
          },
          "execution_count": 54
        },
        {
          "output_type": "display_data",
          "data": {
            "image/png": "[encoded data removed]",
            "text/plain": [
              "<Figure size 432x288 with 1 Axes>"
            ]
          },
          "metadata": {
            "tags": []
          }
        }
      ]
    },
    {
      "cell_type": "markdown",
      "metadata": {
        "id": "kXcmioDYHitQ",
        "colab_type": "text"
      },
      "source": [
        "# Error\n",
        "\n"
      ]
    },
    {
      "cell_type": "markdown",
      "metadata": {
        "id": "jUKT-YbdcvwU",
        "colab_type": "text"
      },
      "source": [
        "# OLS"
      ]
    },
    {
      "cell_type": "code",
      "metadata": {
        "id": "hG7-OYLw2Lo4",
        "colab_type": "code",
        "outputId": "59f71206-1a54-4fe7-d565-068ea7e8365c",
        "colab": {
          "base_uri": "https://localhost:8080/",
          "height": 967
        }
      },
      "source": [
        "from statsmodels.formula.api import ols\n",
        "model = ols(\" Appliances ~ T1 +RH_1+T2+RH_2+T3+RH_3+T4+RH_4+T5+RH_5+T6+RH_6+T7+RH_7+T8+RH_8+T9+RH_9+T_out+Press_mm_hg+RH_out + Windspeed + Visibility+Tdewpoint\", dent).fit()\n",
        "print(model.summary())\n",
        "theta_ols = np.array(model.params)\n",
        "theta_ols"
      ],
      "execution_count": 55,
      "outputs": [
        {
          "output_type": "stream",
          "text": [
            "                            OLS Regression Results                            \n",
            "==============================================================================\n",
            "Dep. Variable:             Appliances   R-squared:                       0.146\n",
            "Model:                            OLS   Adj. R-squared:                  0.145\n",
            "Method:                 Least Squares   F-statistic:                     140.9\n",
            "Date:                Thu, 05 Dec 2019   Prob (F-statistic):               0.00\n",
            "Time:                        17:31:34   Log-Likelihood:                -26440.\n",
            "No. Observations:               19735   AIC:                         5.293e+04\n",
            "Df Residuals:                   19710   BIC:                         5.313e+04\n",
            "Df Model:                          24                                         \n",
            "Covariance Type:            nonrobust                                         \n",
            "===============================================================================\n",
            "                  coef    std err          t      P>|t|      [0.025      0.975]\n",
            "-------------------------------------------------------------------------------\n",
            "Intercept   -1.047e-14      0.007  -1.59e-12      1.000      -0.013       0.013\n",
            "T1              0.0061      0.029      0.208      0.835      -0.051       0.063\n",
            "RH_1            0.6236      0.026     23.772      0.000       0.572       0.675\n",
            "T2             -0.4343      0.035    -12.331      0.000      -0.503      -0.365\n",
            "RH_2           -0.5720      0.031    -18.609      0.000      -0.632      -0.512\n",
            "T3              0.4966      0.021     23.862      0.000       0.456       0.537\n",
            "RH_3            0.1602      0.022      7.402      0.000       0.118       0.203\n",
            "T4              0.0593      0.020      3.013      0.003       0.021       0.098\n",
            "RH_4            0.0824      0.027      3.067      0.002       0.030       0.135\n",
            "T5             -0.0002      0.021     -0.009      0.993      -0.042       0.042\n",
            "RH_5            0.0210      0.008      2.727      0.006       0.006       0.036\n",
            "T6              0.4551      0.038     11.965      0.000       0.381       0.530\n",
            "RH_6            0.1055      0.021      5.073      0.000       0.065       0.146\n",
            "T7              0.0233      0.028      0.845      0.398      -0.031       0.077\n",
            "RH_7           -0.0919      0.022     -4.249      0.000      -0.134      -0.050\n",
            "T8              0.1937      0.019     10.426      0.000       0.157       0.230\n",
            "RH_8           -0.3010      0.019    -15.879      0.000      -0.338      -0.264\n",
            "T9             -0.4344      0.034    -12.596      0.000      -0.502      -0.367\n",
            "RH_9           -0.0607      0.017     -3.633      0.000      -0.094      -0.028\n",
            "T_out          -0.5521      0.080     -6.924      0.000      -0.708      -0.396\n",
            "Press_mm_hg     0.0089      0.008      1.138      0.255      -0.006       0.024\n",
            "RH_out         -0.1326      0.046     -2.871      0.004      -0.223      -0.042\n",
            "Windspeed       0.0509      0.008      6.111      0.000       0.035       0.067\n",
            "Visibility      0.0203      0.007      3.019      0.003       0.007       0.033\n",
            "Tdewpoint       0.2079      0.061      3.404      0.001       0.088       0.328\n",
            "==============================================================================\n",
            "Omnibus:                    14033.773   Durbin-Watson:                   0.608\n",
            "Prob(Omnibus):                  0.000   Jarque-Bera (JB):           213100.590\n",
            "Skew:                           3.344   Prob(JB):                         0.00\n",
            "Kurtosis:                      17.643   Cond. No.                         50.1\n",
            "==============================================================================\n",
            "\n",
            "Warnings:\n",
            "[1] Standard Errors assume that the covariance matrix of the errors is correctly specified.\n"
          ],
          "name": "stdout"
        },
        {
          "output_type": "execute_result",
          "data": {
            "text/plain": [
              "array([-1.04743146e-14,  6.06874856e-03,  6.23634587e-01, -4.34261184e-01,\n",
              "       -5.72042396e-01,  4.96577718e-01,  1.60246850e-01,  5.92922748e-02,\n",
              "        8.24434742e-02, -1.99417403e-04,  2.10381152e-02,  4.55130934e-01,\n",
              "        1.05475366e-01,  2.32669759e-02, -9.19410903e-02,  1.93732474e-01,\n",
              "       -3.00976967e-01, -4.34444712e-01, -6.07408159e-02, -5.52115115e-01,\n",
              "        8.87947549e-03, -1.32555437e-01,  5.09081538e-02,  2.02701790e-02,\n",
              "        2.07899834e-01])"
            ]
          },
          "metadata": {
            "tags": []
          },
          "execution_count": 55
        }
      ]
    },
    {
      "cell_type": "code",
      "metadata": {
        "id": "r07_u1RWu0fU",
        "colab_type": "code",
        "colab": {}
      },
      "source": [
        ""
      ],
      "execution_count": 0,
      "outputs": []
    }
  ]
}