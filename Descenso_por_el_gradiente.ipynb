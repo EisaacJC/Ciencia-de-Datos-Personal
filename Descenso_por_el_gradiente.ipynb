{
  "nbformat": 4,
  "nbformat_minor": 0,
  "metadata": {
    "colab": {
      "name": "Descenso por el gradiente.ipynb",
      "provenance": [],
      "include_colab_link": true
    },
    "kernelspec": {
      "name": "python3",
      "display_name": "Python 3"
    }
  },
  "cells": [
    {
      "cell_type": "markdown",
      "metadata": {
        "id": "view-in-github",
        "colab_type": "text"
      },
      "source": [
        "<a href=\"https://colab.research.google.com/github/EisaacJC/Ciencia-de-Datos-Personal/blob/master/Descenso_por_el_gradiente.ipynb\" target=\"_parent\"><img src=\"https://colab.research.google.com/assets/colab-badge.svg\" alt=\"Open In Colab\"/></a>"
      ]
    },
    {
      "cell_type": "markdown",
      "metadata": {
        "id": "_6YUxpbU5AbC",
        "colab_type": "text"
      },
      "source": [
        "# Facultad de Física, Universidad Veracruzana\n",
        "## Introducción a la ciencia de datos.\n",
        "### Descenso por el gradiente"
      ]
    },
    {
      "cell_type": "markdown",
      "metadata": {
        "id": "eX6xsGnA6RVv",
        "colab_type": "text"
      },
      "source": [
        "Descripción del problema matemático, consideremos una función costo, con el objetivo de encontrar los extremos de ésta función derivamos parcialmente respecto a las componentes de la función, haciendo uso de la hipótesis lineal\n",
        "\n",
        "\n",
        "<b>Función Costo</b>\n",
        "\\begin{equation}\n",
        "J(\\theta) = 1/2m \\sum_{i=1}^{m} (h(\\theta)^{(i)} - y^{(i)})^2 \n",
        "\\end{equation}\n",
        "\n",
        "<b>Derivada de la función costo con respecto de las variables $\\theta_i$ </b>\n",
        "\n",
        "\\begin{equation}\n",
        "\\frac{\\partial J(\\theta)}{\\partial \\theta_j} = 1/m\\sum_{i=1}^{m}(h(\\theta^{(i)} - y^{(i)}).X_j^{(i)}\n",
        "\\end{equation}\n",
        "\n",
        "<b>Expresión numérica para cada \"gradiente\" </b>\n",
        "\\begin{equation}\n",
        "\\theta_0: = \\theta_0 -\\alpha . (1/m .\\sum_{i=1}^{m}(h(\\theta^{(i)} - y^{(i)}).X_0^{(i)})\n",
        "\\end{equation}\n",
        "\\begin{equation}\n",
        "\\theta_1: = \\theta_1 -\\alpha . (1/m .\\sum_{i=1}^{m}(h(\\theta^{(i)} - y^{(i)}).X_1^{(i)})\n",
        "\\end{equation}\n",
        "\\begin{equation}\n",
        "\\theta_2: = \\theta_2 -\\alpha . (1/m .\\sum_{i=1}^{m}(h(\\theta^{(i)} - y^{(i)}).X_2^{(i)})\n",
        "\\end{equation}\n",
        "\n",
        "\\begin{equation}\n",
        "\\theta_j: = \\theta_j -\\alpha . (1/m .\\sum_{i=1}^{m}(h(\\theta^{(i)} - y^{(i)}).X_0^{(i)})\n",
        "\\end{equation}"
      ]
    },
    {
      "cell_type": "code",
      "metadata": {
        "id": "YGCI0s1p5N7P",
        "colab_type": "code",
        "colab": {}
      },
      "source": [
        "#importando librerias\n",
        "import numpy as np\n",
        "import matplotlib.pyplot as plt\n",
        "import seaborn as ns\n",
        "import pandas as pd\n",
        "%matplotlib inline"
      ],
      "execution_count": 0,
      "outputs": []
    },
    {
      "cell_type": "code",
      "metadata": {
        "id": "Kco50nQj5e94",
        "colab_type": "code",
        "colab": {}
      },
      "source": [
        "#Adqusición de datos:\n",
        "dent=pd.read_csv(\"https://raw.githubusercontent.com/EisaacJC/DCI/master/datosEntrenamiento.csv?token=ACRPZCPCCRSVX2HGD4RH5RC56FTNS\")\n",
        "dprb=pd.read_csv(\"https://raw.githubusercontent.com/EisaacJC/DCI/master/datosPrueba.csv?token=ACRPZCPZQCVZLPD6IQ2VFKK56FTXQ\")\n",
        "dval=pd.read_csv(\"https://raw.githubusercontent.com/EisaacJC/DCI/master/datosPrueba.csv?token=ACRPZCMUNUK5L33AHNILABC56FUBQ\")"
      ],
      "execution_count": 0,
      "outputs": []
    },
    {
      "cell_type": "code",
      "metadata": {
        "id": "AHAAe_cj7nd8",
        "colab_type": "code",
        "colab": {
          "base_uri": "https://localhost:8080/",
          "height": 419
        },
        "outputId": "adc3009c-be3b-48f7-be43-f905378045c0"
      },
      "source": [
        "#"
      ],
      "execution_count": 8,
      "outputs": [
        {
          "output_type": "execute_result",
          "data": {
            "text/html": [
              "<div>\n",
              "<style scoped>\n",
              "    .dataframe tbody tr th:only-of-type {\n",
              "        vertical-align: middle;\n",
              "    }\n",
              "\n",
              "    .dataframe tbody tr th {\n",
              "        vertical-align: top;\n",
              "    }\n",
              "\n",
              "    .dataframe thead th {\n",
              "        text-align: right;\n",
              "    }\n",
              "</style>\n",
              "<table border=\"1\" class=\"dataframe\">\n",
              "  <thead>\n",
              "    <tr style=\"text-align: right;\">\n",
              "      <th></th>\n",
              "      <th>21.99</th>\n",
              "      <th>58.96</th>\n",
              "      <th>1014.09</th>\n",
              "      <th>61.3</th>\n",
              "      <th>453.38</th>\n",
              "    </tr>\n",
              "  </thead>\n",
              "  <tbody>\n",
              "    <tr>\n",
              "      <th>0</th>\n",
              "      <td>14.86</td>\n",
              "      <td>44.71</td>\n",
              "      <td>1018.30</td>\n",
              "      <td>49.46</td>\n",
              "      <td>466.38</td>\n",
              "    </tr>\n",
              "    <tr>\n",
              "      <th>1</th>\n",
              "      <td>17.40</td>\n",
              "      <td>63.09</td>\n",
              "      <td>1020.84</td>\n",
              "      <td>92.58</td>\n",
              "      <td>453.00</td>\n",
              "    </tr>\n",
              "    <tr>\n",
              "      <th>2</th>\n",
              "      <td>18.25</td>\n",
              "      <td>60.10</td>\n",
              "      <td>1009.72</td>\n",
              "      <td>90.15</td>\n",
              "      <td>456.25</td>\n",
              "    </tr>\n",
              "    <tr>\n",
              "      <th>3</th>\n",
              "      <td>24.40</td>\n",
              "      <td>62.26</td>\n",
              "      <td>1011.62</td>\n",
              "      <td>70.10</td>\n",
              "      <td>439.06</td>\n",
              "    </tr>\n",
              "    <tr>\n",
              "      <th>4</th>\n",
              "      <td>11.04</td>\n",
              "      <td>41.74</td>\n",
              "      <td>1022.60</td>\n",
              "      <td>77.51</td>\n",
              "      <td>477.20</td>\n",
              "    </tr>\n",
              "    <tr>\n",
              "      <th>...</th>\n",
              "      <td>...</td>\n",
              "      <td>...</td>\n",
              "      <td>...</td>\n",
              "      <td>...</td>\n",
              "      <td>...</td>\n",
              "    </tr>\n",
              "    <tr>\n",
              "      <th>6692</th>\n",
              "      <td>8.73</td>\n",
              "      <td>41.92</td>\n",
              "      <td>1029.41</td>\n",
              "      <td>89.72</td>\n",
              "      <td>480.99</td>\n",
              "    </tr>\n",
              "    <tr>\n",
              "      <th>6693</th>\n",
              "      <td>21.92</td>\n",
              "      <td>49.02</td>\n",
              "      <td>1009.29</td>\n",
              "      <td>88.56</td>\n",
              "      <td>443.31</td>\n",
              "    </tr>\n",
              "    <tr>\n",
              "      <th>6694</th>\n",
              "      <td>10.20</td>\n",
              "      <td>41.01</td>\n",
              "      <td>1021.39</td>\n",
              "      <td>96.64</td>\n",
              "      <td>468.27</td>\n",
              "    </tr>\n",
              "    <tr>\n",
              "      <th>6695</th>\n",
              "      <td>19.67</td>\n",
              "      <td>59.39</td>\n",
              "      <td>1014.07</td>\n",
              "      <td>77.67</td>\n",
              "      <td>447.61</td>\n",
              "    </tr>\n",
              "    <tr>\n",
              "      <th>6696</th>\n",
              "      <td>10.62</td>\n",
              "      <td>42.02</td>\n",
              "      <td>999.83</td>\n",
              "      <td>96.66</td>\n",
              "      <td>472.41</td>\n",
              "    </tr>\n",
              "  </tbody>\n",
              "</table>\n",
              "<p>6697 rows × 5 columns</p>\n",
              "</div>"
            ],
            "text/plain": [
              "      21.99  58.96  1014.09   61.3  453.38\n",
              "0     14.86  44.71  1018.30  49.46  466.38\n",
              "1     17.40  63.09  1020.84  92.58  453.00\n",
              "2     18.25  60.10  1009.72  90.15  456.25\n",
              "3     24.40  62.26  1011.62  70.10  439.06\n",
              "4     11.04  41.74  1022.60  77.51  477.20\n",
              "...     ...    ...      ...    ...     ...\n",
              "6692   8.73  41.92  1029.41  89.72  480.99\n",
              "6693  21.92  49.02  1009.29  88.56  443.31\n",
              "6694  10.20  41.01  1021.39  96.64  468.27\n",
              "6695  19.67  59.39  1014.07  77.67  447.61\n",
              "6696  10.62  42.02   999.83  96.66  472.41\n",
              "\n",
              "[6697 rows x 5 columns]"
            ]
          },
          "metadata": {
            "tags": []
          },
          "execution_count": 8
        }
      ]
    },
    {
      "cell_type": "code",
      "metadata": {
        "id": "dNZqd8a97rqk",
        "colab_type": "code",
        "colab": {}
      },
      "source": [
        ""
      ],
      "execution_count": 0,
      "outputs": []
    }
  ]
}